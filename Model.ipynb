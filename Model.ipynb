{
 "cells": [
  {
   "cell_type": "code",
   "execution_count": 1,
   "id": "283113a6-3935-4be3-9ced-1f6e84e3fc7c",
   "metadata": {},
   "outputs": [],
   "source": [
    "import os\n",
    "import PIL\n",
    "import shutil\n",
    "import pathlib\n",
    "import numpy as np\n",
    "import matplotlib.pyplot as plt\n",
    "\n",
    "import tensorflow as tf\n",
    "from tensorflow import keras\n",
    "from tensorflow.keras import layers\n",
    "from tensorflow.keras.models import Sequential, save_model"
   ]
  },
  {
   "cell_type": "code",
   "execution_count": 2,
   "id": "d01dc416-0603-47c5-938b-233aae99d108",
   "metadata": {},
   "outputs": [],
   "source": [
    "base_data_dir = \"Lung Disease Dataset\"\n",
    "subfolder_names = [\"test\", \"train\", \"val\"]"
   ]
  },
  {
   "cell_type": "code",
   "execution_count": 3,
   "id": "8a860fd0-1c80-4c83-8fc3-ec632c416992",
   "metadata": {},
   "outputs": [],
   "source": [
    "train_datasets = []\n",
    "val_datasets = []\n",
    "test_datasets = []"
   ]
  },
  {
   "cell_type": "code",
   "execution_count": 4,
   "id": "1e6239e6-ebce-48c2-87a9-707508be4039",
   "metadata": {},
   "outputs": [],
   "source": [
    "img_height = 224\n",
    "img_width = 224\n",
    "batch_size = 32"
   ]
  },
  {
   "cell_type": "code",
   "execution_count": 5,
   "id": "fdb7cc60-a363-4445-a929-cd6f8978f96c",
   "metadata": {},
   "outputs": [
    {
     "name": "stdout",
     "output_type": "stream",
     "text": [
      "Found 2025 files belonging to 5 classes.\n",
      "Found 6054 files belonging to 5 classes.\n",
      "Using 4844 files for training.\n",
      "Found 2016 files belonging to 5 classes.\n",
      "Using 403 files for validation.\n"
     ]
    }
   ],
   "source": [
    "for subfolder_name in subfolder_names:\n",
    "    subfolder_path = os.path.join(base_data_dir, subfolder_name)\n",
    "\n",
    "    if subfolder_name == \"train\":\n",
    "        train_ds = tf.keras.preprocessing.image_dataset_from_directory(\n",
    "            subfolder_path,\n",
    "            validation_split=0.2,\n",
    "            subset=\"training\",\n",
    "            seed=123,\n",
    "            image_size=(img_height, img_width),\n",
    "            batch_size=batch_size\n",
    "        )\n",
    "        train_datasets.append(train_ds)\n",
    "\n",
    "    elif subfolder_name == \"val\":\n",
    "        val_ds = tf.keras.preprocessing.image_dataset_from_directory(\n",
    "            subfolder_path,\n",
    "            validation_split=0.2,\n",
    "            subset=\"validation\",\n",
    "            seed=123,\n",
    "            image_size=(img_height, img_width),\n",
    "            batch_size=batch_size\n",
    "        )\n",
    "        val_datasets.append(val_ds)\n",
    "\n",
    "    elif subfolder_name == \"test\":\n",
    "        test_ds = tf.keras.preprocessing.image_dataset_from_directory(\n",
    "            subfolder_path,\n",
    "            seed=123,\n",
    "            image_size=(img_height, img_width),\n",
    "            batch_size=batch_size\n",
    "        )\n",
    "        test_datasets.append(test_ds)"
   ]
  },
  {
   "cell_type": "code",
   "execution_count": 6,
   "id": "09a3c4c9-af10-4be8-a2a3-ccc57a5baddc",
   "metadata": {},
   "outputs": [],
   "source": [
    "model = Sequential([\n",
    "  layers.experimental.preprocessing.Rescaling(1./255, input_shape=(img_height, img_width, 3)),\n",
    "  layers.Conv2D(16, 3, padding='same', activation='relu'),\n",
    "  layers.MaxPooling2D(),\n",
    "  layers.Conv2D(32, 3, padding='same', activation='relu'),\n",
    "  layers.MaxPooling2D(),\n",
    "  layers.Conv2D(64, 3, padding='same', activation='relu'),\n",
    "  layers.MaxPooling2D(),\n",
    "  layers.Flatten(),\n",
    "  layers.Dense(128, activation='relu'),\n",
    "  layers.Dense(5)\n",
    "])"
   ]
  },
  {
   "cell_type": "code",
   "execution_count": 7,
   "id": "d3da5f01-e20d-49e9-bbbb-c5992ca02c15",
   "metadata": {},
   "outputs": [],
   "source": [
    "model.compile(optimizer='adam',\n",
    "              loss=tf.keras.losses.SparseCategoricalCrossentropy(from_logits=True),\n",
    "              metrics=['accuracy'])"
   ]
  },
  {
   "cell_type": "code",
   "execution_count": 8,
   "id": "723f2eb6-3bbb-4117-bbc9-8f54393433a8",
   "metadata": {},
   "outputs": [
    {
     "name": "stdout",
     "output_type": "stream",
     "text": [
      "Model: \"sequential\"\n",
      "_________________________________________________________________\n",
      " Layer (type)                Output Shape              Param #   \n",
      "=================================================================\n",
      " rescaling (Rescaling)       (None, 224, 224, 3)       0         \n",
      "                                                                 \n",
      " conv2d (Conv2D)             (None, 224, 224, 16)      448       \n",
      "                                                                 \n",
      " max_pooling2d (MaxPooling2  (None, 112, 112, 16)      0         \n",
      " D)                                                              \n",
      "                                                                 \n",
      " conv2d_1 (Conv2D)           (None, 112, 112, 32)      4640      \n",
      "                                                                 \n",
      " max_pooling2d_1 (MaxPoolin  (None, 56, 56, 32)        0         \n",
      " g2D)                                                            \n",
      "                                                                 \n",
      " conv2d_2 (Conv2D)           (None, 56, 56, 64)        18496     \n",
      "                                                                 \n",
      " max_pooling2d_2 (MaxPoolin  (None, 28, 28, 64)        0         \n",
      " g2D)                                                            \n",
      "                                                                 \n",
      " flatten (Flatten)           (None, 50176)             0         \n",
      "                                                                 \n",
      " dense (Dense)               (None, 128)               6422656   \n",
      "                                                                 \n",
      " dense_1 (Dense)             (None, 5)                 645       \n",
      "                                                                 \n",
      "=================================================================\n",
      "Total params: 6446885 (24.59 MB)\n",
      "Trainable params: 6446885 (24.59 MB)\n",
      "Non-trainable params: 0 (0.00 Byte)\n",
      "_________________________________________________________________\n",
      "None\n",
      "Model Training....\n",
      "Epoch 1/5\n",
      "152/152 [==============================] - 67s 431ms/step - loss: 0.9177 - accuracy: 0.6437\n",
      "Epoch 2/5\n",
      "152/152 [==============================] - 66s 432ms/step - loss: 0.5484 - accuracy: 0.7843\n",
      "Epoch 3/5\n",
      "152/152 [==============================] - 69s 454ms/step - loss: 0.4360 - accuracy: 0.8251\n",
      "Epoch 4/5\n",
      "152/152 [==============================] - 72s 469ms/step - loss: 0.3353 - accuracy: 0.8637\n",
      "Epoch 5/5\n",
      "152/152 [==============================] - 68s 442ms/step - loss: 0.2743 - accuracy: 0.8865\n",
      "Training Complete!\n"
     ]
    }
   ],
   "source": [
    "print(model.summary())\n",
    "\n",
    "print(\"Model Training....\")\n",
    "\n",
    "epochs=5\n",
    "history = model.fit(\n",
    "  train_ds,\n",
    "  epochs=epochs\n",
    ")\n",
    "\n",
    "print(\"Training Complete!\")"
   ]
  },
  {
   "cell_type": "code",
   "execution_count": 10,
   "id": "b1a80c99-ce95-4c16-93bd-c4f849144fdd",
   "metadata": {},
   "outputs": [
    {
     "name": "stdout",
     "output_type": "stream",
     "text": [
      "Model Saved\n"
     ]
    },
    {
     "name": "stderr",
     "output_type": "stream",
     "text": [
      "C:\\Users\\harsh\\AppData\\Local\\Temp\\ipykernel_15272\\458166357.py:1: UserWarning: You are saving your model as an HDF5 file via `model.save()`. This file format is considered legacy. We recommend using instead the native Keras format, e.g. `model.save('my_model.keras')`.\n",
      "  save_model(model, 'Lung_disorder.hdf5')\n"
     ]
    }
   ],
   "source": [
    "save_model(model, 'Lung_disorder.hdf5')\n",
    "print(\"Model Saved\")"
   ]
  }
 ],
 "metadata": {
  "kernelspec": {
   "display_name": "Python 3 (ipykernel)",
   "language": "python",
   "name": "python3"
  },
  "language_info": {
   "codemirror_mode": {
    "name": "ipython",
    "version": 3
   },
   "file_extension": ".py",
   "mimetype": "text/x-python",
   "name": "python",
   "nbconvert_exporter": "python",
   "pygments_lexer": "ipython3",
   "version": "3.11.4"
  }
 },
 "nbformat": 4,
 "nbformat_minor": 5
}
